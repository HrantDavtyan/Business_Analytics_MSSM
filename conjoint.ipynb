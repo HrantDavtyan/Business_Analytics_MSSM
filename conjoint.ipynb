{
  "cells": [
    {
      "cell_type": "markdown",
      "source": [
        "# Conjoint analysis using Excel and Python\n",
        "\n",
        "<p>This notebook shows how to perform the 4th step of conjoint analysis (estimation step) in Python. There are 5 stages for conducting the analysis:</p>\n",
        "<ol>\n",
        "<li> defining the profiles - understand what are the characteristics that you want to compare and what are the levels of each of those features.\n",
        "<li> survey - use one of the survey tools, e.g. Google forms, to ask your customers to rank/rate the listed profiles (attention: not all theoretically possible profiles should be listed, choose only those that are reasonable).\n",
        "<li> data transformation - use a data analysis tool (Excvel in our case) to trnasform the data into \"analysis friendly\" form (0s and 1s in our case).\n",
        "<li> <b>estimation - use the transformed data to estimate utilities (using Python and statsmodels library in our case).</b>\n",
        "<li> calculation of importance - use the results of the analysis to calculate the importanc of each feature.\n",
        "</ol>\n",
        "\nThe estimation can be conducted using different econometric/data science algorithms (Linear Regression, PLS, ordered logit, ANOVA etc.).  This notebooks shows how to perform analysis using **Linear Regression** technique, as the latter is the simpliest, yet still one of the most popular techniques used."
      ],
      "metadata": {}
    },
    {
      "cell_type": "code",
      "source": [
        "# let's import the necessary libraries\n",
        "import pandas as pd\n",
        "from statsmodels.formula.api import ols"
      ],
      "outputs": [],
      "execution_count": 1,
      "metadata": {
        "collapsed": true
      }
    },
    {
      "cell_type": "code",
      "source": [
        "# read the data (which is in CSV format)\n",
        "data = pd.read_csv(\"conjoint_TV_python.csv\")\n",
        "data.head()"
      ],
      "outputs": [
        {
          "output_type": "execute_result",
          "execution_count": 2,
          "data": {
            "text/plain": [
              "   A1  A2  A3  B1  B2  C1  C2  C3  Rank\n",
              "0   1   0   0   1   0   1   0   0     2\n",
              "1   1   0   0   1   0   0   1   0     3\n",
              "2   1   0   0   1   0   0   0   1     1\n",
              "3   1   0   0   0   1   1   0   0     5\n",
              "4   1   0   0   0   1   0   1   0     6"
            ],
            "text/html": [
              "<div>\n",
              "<table border=\"1\" class=\"dataframe\">\n",
              "  <thead>\n",
              "    <tr style=\"text-align: right;\">\n",
              "      <th></th>\n",
              "      <th>A1</th>\n",
              "      <th>A2</th>\n",
              "      <th>A3</th>\n",
              "      <th>B1</th>\n",
              "      <th>B2</th>\n",
              "      <th>C1</th>\n",
              "      <th>C2</th>\n",
              "      <th>C3</th>\n",
              "      <th>Rank</th>\n",
              "    </tr>\n",
              "  </thead>\n",
              "  <tbody>\n",
              "    <tr>\n",
              "      <th>0</th>\n",
              "      <td>1</td>\n",
              "      <td>0</td>\n",
              "      <td>0</td>\n",
              "      <td>1</td>\n",
              "      <td>0</td>\n",
              "      <td>1</td>\n",
              "      <td>0</td>\n",
              "      <td>0</td>\n",
              "      <td>2</td>\n",
              "    </tr>\n",
              "    <tr>\n",
              "      <th>1</th>\n",
              "      <td>1</td>\n",
              "      <td>0</td>\n",
              "      <td>0</td>\n",
              "      <td>1</td>\n",
              "      <td>0</td>\n",
              "      <td>0</td>\n",
              "      <td>1</td>\n",
              "      <td>0</td>\n",
              "      <td>3</td>\n",
              "    </tr>\n",
              "    <tr>\n",
              "      <th>2</th>\n",
              "      <td>1</td>\n",
              "      <td>0</td>\n",
              "      <td>0</td>\n",
              "      <td>1</td>\n",
              "      <td>0</td>\n",
              "      <td>0</td>\n",
              "      <td>0</td>\n",
              "      <td>1</td>\n",
              "      <td>1</td>\n",
              "    </tr>\n",
              "    <tr>\n",
              "      <th>3</th>\n",
              "      <td>1</td>\n",
              "      <td>0</td>\n",
              "      <td>0</td>\n",
              "      <td>0</td>\n",
              "      <td>1</td>\n",
              "      <td>1</td>\n",
              "      <td>0</td>\n",
              "      <td>0</td>\n",
              "      <td>5</td>\n",
              "    </tr>\n",
              "    <tr>\n",
              "      <th>4</th>\n",
              "      <td>1</td>\n",
              "      <td>0</td>\n",
              "      <td>0</td>\n",
              "      <td>0</td>\n",
              "      <td>1</td>\n",
              "      <td>0</td>\n",
              "      <td>1</td>\n",
              "      <td>0</td>\n",
              "      <td>6</td>\n",
              "    </tr>\n",
              "  </tbody>\n",
              "</table>\n",
              "</div>"
            ]
          },
          "metadata": {}
        }
      ],
      "execution_count": 2,
      "metadata": {
        "collapsed": false
      }
    },
    {
      "cell_type": "code",
      "source": [
        "# now, let's specify the linear model using hte imported ols() function\n",
        "# the function gets two arguments: the model specification and the data used\n",
        "model_ols = ols(formula=\"Rank ~ A1 + A2 + A3 +B1 + B2 + C1 + C2 + C3\", data=data)"
      ],
      "outputs": [],
      "execution_count": 3,
      "metadata": {
        "collapsed": true
      }
    },
    {
      "cell_type": "code",
      "source": [
        "# now, let's used the model above to fit it to our data\n",
        "our_results = model_ols.fit()"
      ],
      "outputs": [],
      "execution_count": 4,
      "metadata": {
        "collapsed": true
      }
    },
    {
      "cell_type": "code",
      "source": [
        "# it fitted, thus, we can see the summary of the results now\n",
        "our_results.summary()"
      ],
      "outputs": [
        {
          "output_type": "stream",
          "name": "stderr",
          "text": [
            "C:\\Program Files\\Anaconda2\\lib\\site-packages\\scipy\\stats\\stats.py:1327: UserWarning: kurtosistest only valid for n>=20 ... continuing anyway, n=18\n",
            "  \"anyway, n=%i\" % int(n))\n"
          ]
        },
        {
          "output_type": "execute_result",
          "execution_count": 5,
          "data": {
            "text/plain": [
              "<class 'statsmodels.iolib.summary.Summary'>\n",
              "\"\"\"\n",
              "                            OLS Regression Results                            \n",
              "==============================================================================\n",
              "Dep. Variable:                   Rank   R-squared:                       1.000\n",
              "Model:                            OLS   Adj. R-squared:                  1.000\n",
              "Method:                 Least Squares   F-statistic:                 1.704e+30\n",
              "Date:                Sun, 24 Sep 2017   Prob (F-statistic):          1.15e-178\n",
              "Time:                        19:45:48   Log-Likelihood:                 563.44\n",
              "No. Observations:                  18   AIC:                            -1115.\n",
              "Df Residuals:                      12   BIC:                            -1110.\n",
              "Df Model:                           5                                         \n",
              "Covariance Type:            nonrobust                                         \n",
              "==============================================================================\n",
              "                 coef    std err          t      P>|t|      [95.0% Conf. Int.]\n",
              "------------------------------------------------------------------------------\n",
              "Intercept      4.3846    8.2e-16   5.34e+15      0.000         4.385     4.385\n",
              "A1            -4.5385   2.53e-15  -1.79e+15      0.000        -4.538    -4.538\n",
              "A2             1.4615   2.53e-15   5.78e+14      0.000         1.462     1.462\n",
              "A3             7.4615   2.53e-15   2.95e+15      0.000         7.462     7.462\n",
              "B1             0.6923   1.82e-15   3.79e+14      0.000         0.692     0.692\n",
              "B2             3.6923   1.82e-15   2.02e+15      0.000         3.692     3.692\n",
              "C1             1.4615   2.53e-15   5.78e+14      0.000         1.462     1.462\n",
              "C2             2.4615   2.53e-15   9.73e+14      0.000         2.462     2.462\n",
              "C3             0.4615   2.53e-15   1.83e+14      0.000         0.462     0.462\n",
              "==============================================================================\n",
              "Omnibus:                        6.049   Durbin-Watson:                   0.712\n",
              "Prob(Omnibus):                  0.049   Jarque-Bera (JB):                1.606\n",
              "Skew:                           0.031   Prob(JB):                        0.448\n",
              "Kurtosis:                       1.538   Cond. No.                     4.95e+16\n",
              "==============================================================================\n",
              "\n",
              "Warnings:\n",
              "[1] Standard Errors assume that the covariance matrix of the errors is correctly specified.\n",
              "[2] The smallest eigenvalue is 1.59e-32. This might indicate that there are\n",
              "strong multicollinearity problems or that the design matrix is singular.\n",
              "\"\"\""
            ],
            "text/html": [
              "<table class=\"simpletable\">\n",
              "<caption>OLS Regression Results</caption>\n",
              "<tr>\n",
              "  <th>Dep. Variable:</th>          <td>Rank</td>       <th>  R-squared:         </th> <td>   1.000</td> \n",
              "</tr>\n",
              "<tr>\n",
              "  <th>Model:</th>                   <td>OLS</td>       <th>  Adj. R-squared:    </th> <td>   1.000</td> \n",
              "</tr>\n",
              "<tr>\n",
              "  <th>Method:</th>             <td>Least Squares</td>  <th>  F-statistic:       </th> <td>1.704e+30</td>\n",
              "</tr>\n",
              "<tr>\n",
              "  <th>Date:</th>             <td>Sun, 24 Sep 2017</td> <th>  Prob (F-statistic):</th> <td>1.15e-178</td>\n",
              "</tr>\n",
              "<tr>\n",
              "  <th>Time:</th>                 <td>19:45:48</td>     <th>  Log-Likelihood:    </th> <td>  563.44</td> \n",
              "</tr>\n",
              "<tr>\n",
              "  <th>No. Observations:</th>      <td>    18</td>      <th>  AIC:               </th> <td>  -1115.</td> \n",
              "</tr>\n",
              "<tr>\n",
              "  <th>Df Residuals:</th>          <td>    12</td>      <th>  BIC:               </th> <td>  -1110.</td> \n",
              "</tr>\n",
              "<tr>\n",
              "  <th>Df Model:</th>              <td>     5</td>      <th>                     </th>     <td> </td>    \n",
              "</tr>\n",
              "<tr>\n",
              "  <th>Covariance Type:</th>      <td>nonrobust</td>    <th>                     </th>     <td> </td>    \n",
              "</tr>\n",
              "</table>\n",
              "<table class=\"simpletable\">\n",
              "<tr>\n",
              "      <td></td>         <th>coef</th>     <th>std err</th>      <th>t</th>      <th>P>|t|</th> <th>[95.0% Conf. Int.]</th> \n",
              "</tr>\n",
              "<tr>\n",
              "  <th>Intercept</th> <td>    4.3846</td> <td>  8.2e-16</td> <td> 5.34e+15</td> <td> 0.000</td> <td>    4.385     4.385</td>\n",
              "</tr>\n",
              "<tr>\n",
              "  <th>A1</th>        <td>   -4.5385</td> <td> 2.53e-15</td> <td>-1.79e+15</td> <td> 0.000</td> <td>   -4.538    -4.538</td>\n",
              "</tr>\n",
              "<tr>\n",
              "  <th>A2</th>        <td>    1.4615</td> <td> 2.53e-15</td> <td> 5.78e+14</td> <td> 0.000</td> <td>    1.462     1.462</td>\n",
              "</tr>\n",
              "<tr>\n",
              "  <th>A3</th>        <td>    7.4615</td> <td> 2.53e-15</td> <td> 2.95e+15</td> <td> 0.000</td> <td>    7.462     7.462</td>\n",
              "</tr>\n",
              "<tr>\n",
              "  <th>B1</th>        <td>    0.6923</td> <td> 1.82e-15</td> <td> 3.79e+14</td> <td> 0.000</td> <td>    0.692     0.692</td>\n",
              "</tr>\n",
              "<tr>\n",
              "  <th>B2</th>        <td>    3.6923</td> <td> 1.82e-15</td> <td> 2.02e+15</td> <td> 0.000</td> <td>    3.692     3.692</td>\n",
              "</tr>\n",
              "<tr>\n",
              "  <th>C1</th>        <td>    1.4615</td> <td> 2.53e-15</td> <td> 5.78e+14</td> <td> 0.000</td> <td>    1.462     1.462</td>\n",
              "</tr>\n",
              "<tr>\n",
              "  <th>C2</th>        <td>    2.4615</td> <td> 2.53e-15</td> <td> 9.73e+14</td> <td> 0.000</td> <td>    2.462     2.462</td>\n",
              "</tr>\n",
              "<tr>\n",
              "  <th>C3</th>        <td>    0.4615</td> <td> 2.53e-15</td> <td> 1.83e+14</td> <td> 0.000</td> <td>    0.462     0.462</td>\n",
              "</tr>\n",
              "</table>\n",
              "<table class=\"simpletable\">\n",
              "<tr>\n",
              "  <th>Omnibus:</th>       <td> 6.049</td> <th>  Durbin-Watson:     </th> <td>   0.712</td>\n",
              "</tr>\n",
              "<tr>\n",
              "  <th>Prob(Omnibus):</th> <td> 0.049</td> <th>  Jarque-Bera (JB):  </th> <td>   1.606</td>\n",
              "</tr>\n",
              "<tr>\n",
              "  <th>Skew:</th>          <td> 0.031</td> <th>  Prob(JB):          </th> <td>   0.448</td>\n",
              "</tr>\n",
              "<tr>\n",
              "  <th>Kurtosis:</th>      <td> 1.538</td> <th>  Cond. No.          </th> <td>4.95e+16</td>\n",
              "</tr>\n",
              "</table>"
            ]
          },
          "metadata": {}
        }
      ],
      "execution_count": 5,
      "metadata": {
        "collapsed": false
      }
    },
    {
      "cell_type": "code",
      "source": [
        "# for conjoint analysis what we are interested in most are the estimated coefficients/parameters\n",
        "# so let's get the parameters and save them as a new variable\n",
        "coef = our_results.params"
      ],
      "outputs": [],
      "execution_count": 7,
      "metadata": {
        "collapsed": true
      }
    },
    {
      "cell_type": "code",
      "source": [
        "# the type of this variable is not a DataFrame. Let's convert it.\n",
        "coef_DF = pd.DataFrame(coef)"
      ],
      "outputs": [],
      "execution_count": 8,
      "metadata": {
        "collapsed": false
      }
    },
    {
      "cell_type": "code",
      "source": [
        "#once it is a DataFrame, we can already save it and continue to analyse in Excel\n",
        "coef_DF.to_excel(\"coef.xlsx\")"
      ],
      "outputs": [],
      "execution_count": 10,
      "metadata": {
        "collapsed": true
      }
    }
  ],
  "metadata": {
    "kernelspec": {
      "name": "python2",
      "language": "python",
      "display_name": "Python 2"
    },
    "language_info": {
      "mimetype": "text/x-python",
      "nbconvert_exporter": "python",
      "name": "python",
      "pygments_lexer": "ipython2",
      "version": "2.7.12",
      "file_extension": ".py",
      "codemirror_mode": {
        "version": 2,
        "name": "ipython"
      }
    },
    "kernel_info": {
      "name": "python2"
    }
  },
  "nbformat": 4,
  "nbformat_minor": 1
}